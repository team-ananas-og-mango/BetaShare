{
 "cells": [
  {
   "cell_type": "code",
   "execution_count": 2,
   "metadata": {},
   "outputs": [
    {
     "ename": "ValueError",
     "evalue": "Mime type rendering requires nbformat>=4.2.0 but it is not installed",
     "output_type": "error",
     "traceback": [
      "\u001b[0;31m---------------------------------------------------------------------------\u001b[0m",
      "\u001b[0;31mValueError\u001b[0m                                Traceback (most recent call last)",
      "Cell \u001b[0;32mIn[2], line 55\u001b[0m\n\u001b[1;32m     45\u001b[0m fig\u001b[39m.\u001b[39madd_trace(go\u001b[39m.\u001b[39mScatter(x\u001b[39m=\u001b[39m\u001b[39mlist\u001b[39m(\u001b[39mrange\u001b[39m(\u001b[39mlen\u001b[39m(ema100_values))),\n\u001b[1;32m     46\u001b[0m                         y\u001b[39m=\u001b[39mema100_values,\n\u001b[1;32m     47\u001b[0m                         mode\u001b[39m=\u001b[39m\u001b[39m'\u001b[39m\u001b[39mlines\u001b[39m\u001b[39m'\u001b[39m,\n\u001b[0;32m   (...)\u001b[0m\n\u001b[1;32m     50\u001b[0m                         hovertemplate\u001b[39m=\u001b[39m\u001b[39m'\u001b[39m\u001b[39mEMA100: \u001b[39m\u001b[39m%\u001b[39m\u001b[39m{y}\u001b[39;00m\u001b[39m<br>Advice: \u001b[39m\u001b[39m%\u001b[39m\u001b[39m{text}\u001b[39;00m\u001b[39m'\u001b[39m,\n\u001b[1;32m     51\u001b[0m                         line\u001b[39m=\u001b[39m\u001b[39mdict\u001b[39m(color\u001b[39m=\u001b[39m\u001b[39m'\u001b[39m\u001b[39mred\u001b[39m\u001b[39m'\u001b[39m)))\n\u001b[1;32m     52\u001b[0m fig\u001b[39m.\u001b[39mupdate_layout(title\u001b[39m=\u001b[39m\u001b[39m'\u001b[39m\u001b[39mEMA Graph\u001b[39m\u001b[39m'\u001b[39m,\n\u001b[1;32m     53\u001b[0m                   xaxis_title\u001b[39m=\u001b[39m\u001b[39m'\u001b[39m\u001b[39mTime\u001b[39m\u001b[39m'\u001b[39m,\n\u001b[1;32m     54\u001b[0m                   yaxis_title\u001b[39m=\u001b[39m\u001b[39m'\u001b[39m\u001b[39mEMA Values\u001b[39m\u001b[39m'\u001b[39m)\n\u001b[0;32m---> 55\u001b[0m fig\u001b[39m.\u001b[39;49mshow()\n",
      "File \u001b[0;32m~/Documents/GitHub/BetaShare/.venv/lib/python3.11/site-packages/plotly/basedatatypes.py:3390\u001b[0m, in \u001b[0;36mBaseFigure.show\u001b[0;34m(self, *args, **kwargs)\u001b[0m\n\u001b[1;32m   3357\u001b[0m \u001b[39m\u001b[39m\u001b[39m\"\"\"\u001b[39;00m\n\u001b[1;32m   3358\u001b[0m \u001b[39mShow a figure using either the default renderer(s) or the renderer(s)\u001b[39;00m\n\u001b[1;32m   3359\u001b[0m \u001b[39mspecified by the renderer argument\u001b[39;00m\n\u001b[0;32m   (...)\u001b[0m\n\u001b[1;32m   3386\u001b[0m \u001b[39mNone\u001b[39;00m\n\u001b[1;32m   3387\u001b[0m \u001b[39m\"\"\"\u001b[39;00m\n\u001b[1;32m   3388\u001b[0m \u001b[39mimport\u001b[39;00m \u001b[39mplotly\u001b[39;00m\u001b[39m.\u001b[39;00m\u001b[39mio\u001b[39;00m \u001b[39mas\u001b[39;00m \u001b[39mpio\u001b[39;00m\n\u001b[0;32m-> 3390\u001b[0m \u001b[39mreturn\u001b[39;00m pio\u001b[39m.\u001b[39;49mshow(\u001b[39mself\u001b[39;49m, \u001b[39m*\u001b[39;49margs, \u001b[39m*\u001b[39;49m\u001b[39m*\u001b[39;49mkwargs)\n",
      "File \u001b[0;32m~/Documents/GitHub/BetaShare/.venv/lib/python3.11/site-packages/plotly/io/_renderers.py:396\u001b[0m, in \u001b[0;36mshow\u001b[0;34m(fig, renderer, validate, **kwargs)\u001b[0m\n\u001b[1;32m    391\u001b[0m         \u001b[39mraise\u001b[39;00m \u001b[39mValueError\u001b[39;00m(\n\u001b[1;32m    392\u001b[0m             \u001b[39m\"\u001b[39m\u001b[39mMime type rendering requires ipython but it is not installed\u001b[39m\u001b[39m\"\u001b[39m\n\u001b[1;32m    393\u001b[0m         )\n\u001b[1;32m    395\u001b[0m     \u001b[39mif\u001b[39;00m \u001b[39mnot\u001b[39;00m nbformat \u001b[39mor\u001b[39;00m Version(nbformat\u001b[39m.\u001b[39m__version__) \u001b[39m<\u001b[39m Version(\u001b[39m\"\u001b[39m\u001b[39m4.2.0\u001b[39m\u001b[39m\"\u001b[39m):\n\u001b[0;32m--> 396\u001b[0m         \u001b[39mraise\u001b[39;00m \u001b[39mValueError\u001b[39;00m(\n\u001b[1;32m    397\u001b[0m             \u001b[39m\"\u001b[39m\u001b[39mMime type rendering requires nbformat>=4.2.0 but it is not installed\u001b[39m\u001b[39m\"\u001b[39m\n\u001b[1;32m    398\u001b[0m         )\n\u001b[1;32m    400\u001b[0m     ipython_display\u001b[39m.\u001b[39mdisplay(bundle, raw\u001b[39m=\u001b[39m\u001b[39mTrue\u001b[39;00m)\n\u001b[1;32m    402\u001b[0m \u001b[39m# external renderers\u001b[39;00m\n",
      "\u001b[0;31mValueError\u001b[0m: Mime type rendering requires nbformat>=4.2.0 but it is not installed"
     ]
    }
   ],
   "source": [
    "from kafka import KafkaConsumer\n",
    "import json\n",
    "import plotly.graph_objects as go\n",
    "\n",
    "# Kafka configuration\n",
    "bootstrap_servers = '34.88.11.32:9094'\n",
    "topic = 'ema'\n",
    "\n",
    "# Create Kafka consumer\n",
    "consumer = KafkaConsumer(topic, bootstrap_servers=bootstrap_servers)\n",
    "\n",
    "# Initialize lists to store EMA values and advice\n",
    "ema10_values = []\n",
    "ema100_values = []\n",
    "advice_values = []\n",
    "\n",
    "# Consume messages from Kafka topic\n",
    "for message in consumer:\n",
    "    # Decode and parse JSON message\n",
    "    data = json.loads(message.value)\n",
    "\n",
    "     # Extract symbol from data\n",
    "    symbol = data['symbol']\n",
    "\n",
    "\n",
    "    # Extract EMA values and advice\n",
    "    ema10 = data['ema10']\n",
    "    ema100 = data['ema100']\n",
    "    advice = data['advise']\n",
    "\n",
    "    # Add EMA values and advice to the lists\n",
    "    ema10_values.append(ema10)\n",
    "    ema100_values.append(ema100)\n",
    "    advice_values.append(advice)\n",
    "\n",
    "    # Create a scatter plot\n",
    "    fig = go.Figure()\n",
    "    fig.add_trace(go.Scatter(x=list(range(len(ema10_values))),\n",
    "                            y=ema10_values,\n",
    "                            mode='lines',\n",
    "                            name='EMA10',\n",
    "                            hovertext=advice_values,\n",
    "                            hovertemplate='EMA10: %{y}<br>Advice: %{text}',\n",
    "                            line=dict(color='blue')))\n",
    "    fig.add_trace(go.Scatter(x=list(range(len(ema100_values))),\n",
    "                            y=ema100_values,\n",
    "                            mode='lines',\n",
    "                            name='EMA100',\n",
    "                            hovertext=advice_values,\n",
    "                            hovertemplate='EMA100: %{y}<br>Advice: %{text}',\n",
    "                            line=dict(color='red')))\n",
    "    fig.update_layout(title='EMA Graph',\n",
    "                      xaxis_title='Time',\n",
    "                      yaxis_title='EMA Values')\n",
    "    fig.show()\n"
   ]
  }
 ],
 "metadata": {
  "kernelspec": {
   "display_name": "Python 3",
   "language": "python",
   "name": "python3"
  },
  "language_info": {
   "codemirror_mode": {
    "name": "ipython",
    "version": 3
   },
   "file_extension": ".py",
   "mimetype": "text/x-python",
   "name": "python",
   "nbconvert_exporter": "python",
   "pygments_lexer": "ipython3",
   "version": "3.11.3"
  },
  "orig_nbformat": 4
 },
 "nbformat": 4,
 "nbformat_minor": 2
}
